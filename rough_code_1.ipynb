{
 "cells": [
  {
   "cell_type": "raw",
   "id": "82780858-2e92-4c25-909b-fa99b20948a3",
   "metadata": {},
   "source": [
    "Random 6 digit integerc generator:"
   ]
  },
  {
   "cell_type": "code",
   "execution_count": 50,
   "id": "efb7669a-2426-4386-b87e-3bc8ff966e70",
   "metadata": {},
   "outputs": [
    {
     "name": "stdout",
     "output_type": "stream",
     "text": [
      "963268\n"
     ]
    }
   ],
   "source": [
    "import random\n",
    "l = []\n",
    "for i in range(6):\n",
    "    x = random.randint(0, 9)\n",
    "    l.append(x)\n",
    "print(str(l[0]) + str(l[1]) + str(l[2]) + str(l[3]) + str(l[4]) + str(l[5]))"
   ]
  },
  {
   "cell_type": "raw",
   "id": "30265d1e-72c6-499c-aaab-1a3124eae846",
   "metadata": {},
   "source": [
    "list of integer , lowercase alphabet, and symbols."
   ]
  },
  {
   "cell_type": "code",
   "execution_count": 51,
   "id": "70f519ec-ae1c-4ea0-a6e1-ce7486998975",
   "metadata": {},
   "outputs": [],
   "source": [
    "i = ['0', '1', '2', '3', '4', '5', '6', '7', '8', '9']\n",
    "a = ['a', 'b', 'c', 'd', 'e', 'f', 'g', 'h', 'i', 'j', 'k', 'l', 'm', 'n', 'o', 'p', 'q', 'r', 's', 't', 'u', 'v', 'w', 'x', 'y', 'z']\n",
    "s=['!', '@', '#', '$', '%', '&']\n"
   ]
  },
  {
   "cell_type": "raw",
   "id": "e6d7669e-246b-454b-874a-b652f25e36a7",
   "metadata": {},
   "source": [
    "Random 6 digit integet , lowercase aplphabet, and symbols. "
   ]
  },
  {
   "cell_type": "code",
   "execution_count": 66,
   "id": "ffca9a01-f9ff-43e6-86d5-ecb68485bd9e",
   "metadata": {},
   "outputs": [
    {
     "name": "stdout",
     "output_type": "stream",
     "text": [
      "530799\n",
      "lvajpr\n",
      "#@!&@!\n"
     ]
    }
   ],
   "source": [
    "p = []\n",
    "q = []\n",
    "r_1 = []\n",
    "i_n = ['0', '1', '2', '3', '4', '5', '6', '7', '8', '9']\n",
    "a_l = ['a', 'b', 'c', 'd', 'e', 'f', 'g', 'h', 'i', 'j', 'k', 'l', 'm', 'n', 'o', 'p', 'q', 'r', 's', 't', 'u', 'v', 'w', 'x', 'y', 'z']\n",
    "s_y =['!', '@', '#', '$', '%', '&']\n",
    "for i in range(6):\n",
    "    x = random.choice(i_n)\n",
    "    p.append(x)\n",
    "print(p[0] + p[1] + p[2] + p[3] + p[4] + p[5])\n",
    "\n",
    "for i in range(6):\n",
    "    x = random.choice(a_l)\n",
    "    q.append(x)\n",
    "print(q[0] + q[1] + q[2] + q[3] + q[4] + q[5])\n",
    "\n",
    "for i in range(6):\n",
    "    x = random.choice(s_y)\n",
    "    r_1.append(x)\n",
    "print(r_1[0] + r_1[1] + r_1[2] + r_1[3] + r_1[4] + r_1[5])\n"
   ]
  },
  {
   "cell_type": "raw",
   "id": "f44afb59-e2c8-4bd4-969a-1e8a24d36c95",
   "metadata": {},
   "source": [
    "a new list that choose the first digit it to be either integer, alpha"
   ]
  },
  {
   "cell_type": "code",
   "execution_count": 104,
   "id": "1d60fb95-a0f4-449a-91b5-793e351fdfd3",
   "metadata": {},
   "outputs": [
    {
     "name": "stdout",
     "output_type": "stream",
     "text": [
      "3\n",
      "['#']\n"
     ]
    }
   ],
   "source": [
    "p_a = []\n",
    "t = random.randint(1, 3)\n",
    "print(t)\n",
    "if t == 1:\n",
    "    p_a.append(p[0])\n",
    "    print(p_a)\n",
    "else t == 3:\n",
    "    p_a.append(r_1[0])\n",
    "    print(p_a)"
   ]
  },
  {
   "cell_type": "code",
   "execution_count": 105,
   "id": "1e9599d8-4951-4dfa-9aa8-12468c245a8d",
   "metadata": {},
   "outputs": [
    {
     "ename": "SyntaxError",
     "evalue": "invalid syntax (3581361537.py, line 1)",
     "output_type": "error",
     "traceback": [
      "  \u001b[36mCell\u001b[39m\u001b[36m \u001b[39m\u001b[32mIn[105]\u001b[39m\u001b[32m, line 1\u001b[39m\n\u001b[31m    \u001b[39m\u001b[31melif t == 2:\u001b[39m\n    ^\n\u001b[31mSyntaxError\u001b[39m\u001b[31m:\u001b[39m invalid syntax\n"
     ]
    }
   ],
   "source": [
    "elif t == 2:\n",
    "    u = random.randint(1, 2)\n",
    "    if u = 1:\n",
    "        p_a.append(q[0])\n",
    "        print(p_a)\n",
    "    else:\n",
    "        p_a.append(upper.(q[0]))\n",
    "        print(p_a)\n",
    "    \n",
    "    "
   ]
  },
  {
   "cell_type": "markdown",
   "id": "50c52a73-b928-49de-968d-638ee6d57131",
   "metadata": {},
   "source": [
    "import random\n",
    "p = []\n",
    "q = []\n",
    "r_1 = []\n",
    "i_n = ['0', '1', '2', '3', '4', '5', '6', '7', '8', '9']\n",
    "a_l = ['a', 'b', 'c', 'd', 'e', 'f', 'g', 'h', 'i', 'j', 'k', 'l', 'm', 'n', 'o', 'p', 'q', 'r', 's', 't', 'u', 'v', 'w', 'x', 'y', 'z']\n",
    "s_y =['!', '@', '#', '$', '%', '&']\n",
    "for i in range(6):\n",
    "    x = random.choice(i_n)\n",
    "    p.append(x)\n",
    "print(p[0] + p[1] + p[2] + p[3] + p[4] + p[5])\n",
    "\n",
    "for i in range(6):\n",
    "    x = random.choice(a_l)\n",
    "    q.append(x)\n",
    "print(q[0] + q[1] + q[2] + q[3] + q[4] + q[5])\n",
    "\n",
    "for i in range(6):\n",
    "    x = random.choice(s_y)\n",
    "    r_1.append(x)\n",
    "print(r_1[0] + r_1[1] + r_1[2] + r_1[3] + r_1[4] + r_1[5])\n",
    "\n",
    "p_a = []\n",
    "t = random.randint(1, 3)\n",
    "print(t)\n",
    "if t == 1:\n",
    "    p_a.append(p[0])\n",
    "    print(p_a)\n",
    "elif t == 2:\n",
    "    u = random.randint(1, 2)\n",
    "    if u == 1:\n",
    "        p_a.append(q[0])\n",
    "        print(p_a)\n",
    "    else:\n",
    "        p_a.append(upper.(q[0]))\n",
    "        print(p_a)\n",
    "else t == 3:\n",
    "    p_a.append(r_1[0])\n",
    "    print(p_a)"
   ]
  },
  {
   "cell_type": "code",
   "execution_count": 113,
   "id": "f3e60c4a-b8ed-4e2a-8ee5-a993dcb8d82c",
   "metadata": {},
   "outputs": [
    {
     "name": "stdout",
     "output_type": "stream",
     "text": [
      "363907\n",
      "lidxys\n",
      "&&@!!!\n",
      "2\n",
      "['L']\n"
     ]
    }
   ],
   "source": [
    "import random\n",
    "\n",
    "p = []\n",
    "q = []\n",
    "r_1 = []\n",
    "i_n = ['0', '1', '2', '3', '4', '5', '6', '7', '8', '9']\n",
    "a_l = ['a', 'b', 'c', 'd', 'e', 'f', 'g', 'h', 'i', 'j', 'k', 'l', 'm', 'n', 'o', 'p', 'q', 'r', 's', 't', 'u', 'v', 'w', 'x', 'y', 'z']\n",
    "s_y =['!', '@', '#', '$', '%', '&']\n",
    "\n",
    "\n",
    "for i in range(6):\n",
    "    x = random.choice(i_n)\n",
    "    p.append(x)\n",
    "print(p[0] + p[1] + p[2] + p[3] + p[4] + p[5])\n",
    "\n",
    "\n",
    "\n",
    "for i in range(6):\n",
    "    x = random.choice(a_l)\n",
    "    q.append(x)\n",
    "print(q[0] + q[1] + q[2] + q[3] + q[4] + q[5])\n",
    "\n",
    "\n",
    "for i in range(6):\n",
    "    x = random.choice(s_y)\n",
    "    r_1.append(x)\n",
    "print(r_1[0] + r_1[1] + r_1[2] + r_1[3] + r_1[4] + r_1[5])\n",
    "\n",
    "p_a = []\n",
    "t = random.randint(1, 3)\n",
    "print(t)\n",
    "\n",
    "if t == 1:\n",
    "    p_a.append(p[0])\n",
    "    print(p_a)\n",
    "\n",
    "elif t == 2:\n",
    "    u = random.randint(1, 2)\n",
    "    if u == 1:\n",
    "        p_a.append(q[0])\n",
    "        print(p_a)\n",
    "    else:\n",
    "        p_a.append(q[0].upper())\n",
    "        print(p_a)\n",
    "else:\n",
    "    p_a.append(r_1[0])\n",
    "    print(p_a)"
   ]
  },
  {
   "cell_type": "code",
   "execution_count": null,
   "id": "2263726f-9fbf-4181-94a1-15c523efda1f",
   "metadata": {},
   "outputs": [],
   "source": []
  }
 ],
 "metadata": {
  "kernelspec": {
   "display_name": "Python 3 (ipykernel)",
   "language": "python",
   "name": "python3"
  },
  "language_info": {
   "codemirror_mode": {
    "name": "ipython",
    "version": 3
   },
   "file_extension": ".py",
   "mimetype": "text/x-python",
   "name": "python",
   "nbconvert_exporter": "python",
   "pygments_lexer": "ipython3",
   "version": "3.12.3"
  }
 },
 "nbformat": 4,
 "nbformat_minor": 5
}
